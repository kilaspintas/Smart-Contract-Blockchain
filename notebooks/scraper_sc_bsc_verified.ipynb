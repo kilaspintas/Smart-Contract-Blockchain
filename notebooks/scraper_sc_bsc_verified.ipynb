{
 "cells": [
  {
   "cell_type": "code",
   "execution_count": null,
   "id": "1e99ea41",
   "metadata": {},
   "outputs": [],
   "source": [
    "import time\n",
    "import json\n",
    "import requests\n",
    "import pandas as pd\n",
    "from tqdm import tqdm\n",
    "from typing import Dict\n",
    "\n",
    "df = pd.read_csv(\"E:/TA/DeFi/data/raw/bsc_contractaddress_opensource_license.csv\", skiprows=1)  \n",
    "\n",
    "API_KEY = 'bscscan_api_key.txt'\n",
    "API_URL = 'https://api.bscscan.com/api'\n",
    "BATCH_SIZE = 5\n",
    "\n",
    "print(df.head())"
   ]
  },
  {
   "cell_type": "code",
   "execution_count": null,
   "id": "76f5227d",
   "metadata": {},
   "outputs": [],
   "source": [
    "def fetch_contract_source(address: str) -> Dict:\n",
    "    params = {\n",
    "        'module': 'contract',\n",
    "        'action': 'getsourcecode',\n",
    "        'address': address,\n",
    "        'apikey': API_KEY\n",
    "    }\n",
    "    try:\n",
    "        response = requests.get(API_URL, params=params, timeout=10)\n",
    "        data = response.json()\n",
    "        if data['status'] == '1':\n",
    "            return data['result'][0]\n",
    "        else:\n",
    "            return {'error': data.get('message', 'Unknown error')}\n",
    "    except Exception as e:\n",
    "        return {'error': str(e)}"
   ]
  },
  {
   "cell_type": "code",
   "execution_count": null,
   "id": "13441baa",
   "metadata": {},
   "outputs": [],
   "source": [
    "def extract_features(source_data: Dict) -> Dict:\n",
    "    if 'error' in source_data:\n",
    "        return {'error': source_data['error']}\n",
    "    return {\n",
    "        'ContractName': source_data.get('ContractName'),\n",
    "        'CompilerVersion': source_data.get('CompilerVersion'),\n",
    "        'OptimizationUsed': source_data.get('OptimizationUsed'),\n",
    "        'Runs': source_data.get('Runs'),\n",
    "        'SourceCodeLength': len(source_data.get('SourceCode', '')),\n",
    "        'ConstructorArgsLength': len(source_data.get('ConstructorArguments', '')),\n",
    "        'Proxy': source_data.get('Proxy'),\n",
    "        'LicenseType': source_data.get('LicenseType')\n",
    "    }"
   ]
  },
  {
   "cell_type": "code",
   "execution_count": null,
   "id": "5b7cd05b",
   "metadata": {},
   "outputs": [],
   "source": [
    "results = []\n",
    "sourcecode_dict = {} \n",
    "\n",
    "for i in tqdm(range(0, len(df), BATCH_SIZE)):\n",
    "    batch = df.iloc[i:i + BATCH_SIZE]\n",
    "    for _, row in batch.iterrows():\n",
    "        address = row['ContractAddress']\n",
    "        source_data = fetch_contract_source(address)\n",
    "        if source_data:\n",
    "            results.append({\n",
    "                'ContractAddress': address,\n",
    "                'ContractName': source_data.get('ContractName'),\n",
    "                'CompilerVersion': source_data.get('CompilerVersion'),\n",
    "                'OptimizationUsed': source_data.get('OptimizationUsed'),\n",
    "                'Runs': source_data.get('Runs'),\n",
    "                'SourceCodeLength': len(source_data.get('SourceCode', '')),\n",
    "                'ConstructorArgsLength': len(source_data.get('ConstructorArguments', '')),\n",
    "                'Proxy': source_data.get('Proxy'),\n",
    "                'LicenseType': source_data.get('LicenseType')\n",
    "            })\n",
    "            sourcecode_dict[address] = {\n",
    "                'ContractAddress': address,\n",
    "                'ContractName': source_data.get('ContractName'),\n",
    "                'SourceCode': source_data.get('SourceCode'),\n",
    "                'CompilerVersion': source_data.get('CompilerVersion'),\n",
    "                'OptimizationUsed': source_data.get('OptimizationUsed'),\n",
    "                'Runs': source_data.get('Runs'),\n",
    "                'ConstructorArguments': source_data.get('ConstructorArguments'),\n",
    "                'LicenseType': source_data.get('LicenseType'),\n",
    "                'Proxy': source_data.get('Proxy')\n",
    "            }\n",
    "    time.sleep(1)\n",
    "\n",
    "\n",
    "results_df = pd.DataFrame(results)\n",
    "results_df.to_csv(\"E:/TA/DeFi/data/raw/bsc_contract_features.csv\", index=False)\n",
    "with open(\"E:/TA/DeFi/data/raw/bsc_contract_sourcecode.json\", \"w\") as json_file:\n",
    "    json.dump(sourcecode_dict, json_file, indent=2)\n",
    "\n",
    "print(\"Done! File Saved\")"
   ]
  }
 ],
 "metadata": {
  "kernelspec": {
   "display_name": "ipex_build",
   "language": "python",
   "name": "python3"
  },
  "language_info": {
   "codemirror_mode": {
    "name": "ipython",
    "version": 3
   },
   "file_extension": ".py",
   "mimetype": "text/x-python",
   "name": "python",
   "nbconvert_exporter": "python",
   "pygments_lexer": "ipython3",
   "version": "3.10.16"
  }
 },
 "nbformat": 4,
 "nbformat_minor": 5
}
